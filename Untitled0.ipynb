{
  "nbformat": 4,
  "nbformat_minor": 0,
  "metadata": {
    "colab": {
      "provenance": [],
      "include_colab_link": true
    },
    "kernelspec": {
      "name": "python3",
      "display_name": "Python 3"
    },
    "language_info": {
      "name": "python"
    }
  },
  "cells": [
    {
      "cell_type": "markdown",
      "metadata": {
        "id": "view-in-github",
        "colab_type": "text"
      },
      "source": [
        "<a href=\"https://colab.research.google.com/github/am5nj/numarical.amanj/blob/main/Untitled0.ipynb\" target=\"_parent\"><img src=\"https://colab.research.google.com/assets/colab-badge.svg\" alt=\"Open In Colab\"/></a>"
      ]
    },
    {
      "cell_type": "code",
      "execution_count": 1,
      "metadata": {
        "colab": {
          "base_uri": "https://localhost:8080/"
        },
        "id": "MsZPzSwU736S",
        "outputId": "780ace11-08e6-4b9d-8659-1f8bea795384"
      },
      "outputs": [
        {
          "output_type": "stream",
          "name": "stdout",
          "text": [
            "The error is 8.5\n",
            "The lower boundary, a, is -0.5 and the upper boundary, b, is -9\n",
            "The error is 4.25\n",
            "The lower boundary, a, is -0.5 and the upper boundary, b, is -4.75\n",
            "The error is 2.125\n",
            "The lower boundary, a, is -0.5 and the upper boundary, b, is -2.625\n",
            "The error is 1.0625\n",
            "The lower boundary, a, is -1.5625 and the upper boundary, b, is -2.625\n",
            "The error is 0.53125\n",
            "The lower boundary, a, is -1.5625 and the upper boundary, b, is -2.09375\n",
            "The error is 0.265625\n",
            "The lower boundary, a, is -1.5625 and the upper boundary, b, is -1.828125\n",
            "The error is 0.1328125\n",
            "The lower boundary, a, is -1.6953125 and the upper boundary, b, is -1.828125\n",
            "The error is 0.06640625\n",
            "The lower boundary, a, is -1.6953125 and the upper boundary, b, is -1.76171875\n",
            "The error is 0.033203125\n",
            "The lower boundary, a, is -1.6953125 and the upper boundary, b, is -1.728515625\n"
          ]
        }
      ],
      "source": [
        "def bisection_method(fanc, a, b, error_accept):\n",
        "\n",
        "\tdef f(x):\n",
        "\t\tf = eval(fanc)\n",
        "\t\treturn f\n",
        "\n",
        "\terror = abs(b - a)\n",
        "\twhile error > error_accept:\n",
        "\t\tc = (b + a)/2\n",
        "\t\tif f(a) * f(b) >= 0:\n",
        "\t\t\tprint(\"no root\")\n",
        "\t\t\tquit()\n",
        "\t\telif f(c) * f(a) < 0 :\n",
        "\t\t\tb = c\n",
        "\t\t\terror = abs(b - a)\n",
        "\t\telif f(c) * f(b) < 0:\n",
        "\t\t\ta = c\n",
        "\t\t\terror = abs(b - a)\n",
        "\t\telse :\n",
        "\t\t\tprint(\"Something went wrong \")\n",
        "\t\tquit()\n",
        "\t\tprint(f\"The error is {error}\")\n",
        "\t\tprint(f\"The lower boundary, a, is {a} and the upper boundary, b, is {b}\")\n",
        "\n",
        "bisection_method(\"(x**5) - 9*x -1\", 8, -9, 0.05)"
      ]
    }
  ]
}